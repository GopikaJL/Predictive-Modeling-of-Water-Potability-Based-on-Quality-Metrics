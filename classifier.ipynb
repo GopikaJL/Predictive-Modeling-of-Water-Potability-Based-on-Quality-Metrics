{
  "nbformat": 4,
  "nbformat_minor": 0,
  "metadata": {
    "colab": {
      "provenance": []
    },
    "kernelspec": {
      "name": "python3",
      "display_name": "Python 3"
    },
    "language_info": {
      "name": "python"
    }
  },
  "cells": [
    {
      "cell_type": "code",
      "metadata": {
        "colab": {
          "base_uri": "https://localhost:8080/"
        },
        "id": "6H1hhsXvLLb-",
        "outputId": "48a37a03-c0f3-4a75-cc85-36eea6201ac8"
      },
      "source": [
        "#  Obtain the optimal Decision Tree classifier hyperparameters using GridSearchCV\n",
        "\n",
        "# Import the required library\n",
        "from sklearn.tree import DecisionTreeClassifier\n",
        "from sklearn.model_selection import GridSearchCV\n",
        "\n",
        "# Define the parameters grid for optimisation\n",
        "dtc_params = {'criterion':['gini','entropy'], 'max_depth': np.arange(2, 11),\n",
        "              'min_samples_split' : np.arange(5, 11),\n",
        "              'min_samples_leaf' : np.arange(5, 11),\n",
        "             }\n",
        "\n",
        "# Training\n",
        "dtc_grid = GridSearchCV(DecisionTreeClassifier(random_state = 42),\n",
        "                        dtc_params, scoring = 'accuracy' , n_jobs = -1)\n",
        "dtc_grid.fit(X_train, y_train)\n",
        "\n",
        "# Print the best hyperparameters\n",
        "print(dtc_grid.best_estimator_)"
      ],
      "execution_count": null,
      "outputs": [
        {
          "output_type": "stream",
          "name": "stdout",
          "text": [
            "DecisionTreeClassifier(criterion='entropy', max_depth=7, min_samples_leaf=9,\n",
            "                       min_samples_split=5, random_state=42)\n"
          ]
        }
      ]
    },
    {
      "cell_type": "code",
      "metadata": {
        "colab": {
          "base_uri": "https://localhost:8080/"
        },
        "id": "KK0hjkg9NgEr",
        "outputId": "21f9e856-16e9-4bcf-afc5-3efaec374ed3"
      },
      "source": [
        "#  Train a Decision tree model using the best hyperparameters.\n",
        "\n",
        "dtc_clf = DecisionTreeClassifier(criterion='entropy', max_depth=7, min_samples_leaf=9,\n",
        "                       min_samples_split=5, random_state=42)\n",
        "\n",
        "# Fit the DecisionTreeClassifier model and  perform prediction.\n",
        "dtc_clf.fit(X_train, y_train)\n",
        "dtc_y_pred = dtc_clf.predict(X_test)\n",
        "\n",
        "# Call the 'score()' function to check the accuracy score of the model.\n",
        "print(\"Train set accuracy:\", dtc_clf.score(X_train, y_train))\n",
        "print(\"Test set accuracy:\", dtc_clf.score(X_test, y_test))"
      ],
      "execution_count": null,
      "outputs": [
        {
          "output_type": "stream",
          "name": "stdout",
          "text": [
            "Train set accuracy: 0.7117313563017881\n",
            "Test set accuracy: 0.6612410986775178\n"
          ]
        }
      ]
    },
    {
      "cell_type": "code",
      "metadata": {
        "colab": {
          "base_uri": "https://localhost:8080/"
        },
        "id": "eKDnnh6aOX5c",
        "outputId": "7edb101d-fecf-4e01-cb45-6ef2d13960dc"
      },
      "source": [
        "#  Print the classification report for DecisionTreeClassifier\n",
        "print(classification_report(y_test, dtc_y_pred))"
      ],
      "execution_count": null,
      "outputs": [
        {
          "output_type": "stream",
          "name": "stdout",
          "text": [
            "              precision    recall  f1-score   support\n",
            "\n",
            "           0       0.66      0.92      0.77       600\n",
            "           1       0.66      0.26      0.38       383\n",
            "\n",
            "    accuracy                           0.66       983\n",
            "   macro avg       0.66      0.59      0.57       983\n",
            "weighted avg       0.66      0.66      0.62       983\n",
            "\n"
          ]
        }
      ]
    },
    {
      "cell_type": "code",
      "metadata": {
        "id": "BRl9B7pQE0XO",
        "colab": {
          "base_uri": "https://localhost:8080/"
        },
        "outputId": "34601010-1c1c-4647-8fd6-0cc9971e1545"
      },
      "source": [
        "#  Obtain the optimal Random forest classifier hyperparameters using GridSearchCV\n",
        "# Import the modules.\n",
        "from sklearn.ensemble import RandomForestClassifier\n",
        "from sklearn.model_selection import GridSearchCV\n",
        "\n",
        "rfc_params = {\"max_depth\":[2, 5, 8, 10], \"n_estimators\":[10, 50, 100] }\n",
        "\n",
        "\n",
        "# Training.\n",
        "rfc_grid = GridSearchCV(RandomForestClassifier(random_state = 42), rfc_params,\n",
        "                        scoring = 'accuracy' , n_jobs = -1)\n",
        "rfc_grid.fit(X_train, y_train)\n",
        "\n",
        "# Print the best hyperparameters.\n",
        "print(rfc_grid.best_estimator_)"
      ],
      "execution_count": null,
      "outputs": [
        {
          "output_type": "stream",
          "name": "stdout",
          "text": [
            "RandomForestClassifier(max_depth=10, random_state=42)\n"
          ]
        }
      ]
    },
    {
      "cell_type": "code",
      "metadata": {
        "id": "i3bhyyGQEZWX",
        "colab": {
          "base_uri": "https://localhost:8080/"
        },
        "outputId": "a8d53f22-2c28-4cfb-ecdb-10a6ce49094f"
      },
      "source": [
        "#  Train an RandomForestClassifier model using the best hyperparameters.\n",
        "\n",
        "rfc_clf= RandomForestClassifier(max_depth=10, random_state=42)\n",
        "\n",
        "# Fit the model and perform prediction.\n",
        "rfc_clf.fit(X_train, y_train)\n",
        "rfc_y_pred = rfc_clf.predict(X_test)\n",
        "\n",
        "# Call the 'score()' function to check the accuracy score of the model.\n",
        "print(\"Train set accuracy:\", rfc_clf.score(X_train, y_train))\n",
        "print(\"Test set accuracy:\", rfc_clf.score(X_test, y_test))"
      ],
      "execution_count": null,
      "outputs": [
        {
          "output_type": "stream",
          "name": "stdout",
          "text": [
            "Train set accuracy: 0.8477976450065416\n",
            "Test set accuracy: 0.6602238046795524\n"
          ]
        }
      ]
    },
    {
      "cell_type": "code",
      "metadata": {
        "colab": {
          "base_uri": "https://localhost:8080/"
        },
        "id": "7qN4o6vzXlWu",
        "outputId": "42563f81-f05c-48e8-becb-53820a4062a9"
      },
      "source": [
        "#  Print the classification report for Random forest classifier\n",
        "print(classification_report(y_test, rfc_y_pred))"
      ],
      "execution_count": null,
      "outputs": [
        {
          "output_type": "stream",
          "name": "stdout",
          "text": [
            "              precision    recall  f1-score   support\n",
            "\n",
            "           0       0.65      0.94      0.77       600\n",
            "           1       0.70      0.22      0.34       383\n",
            "\n",
            "    accuracy                           0.66       983\n",
            "   macro avg       0.68      0.58      0.55       983\n",
            "weighted avg       0.67      0.66      0.60       983\n",
            "\n"
          ]
        }
      ]
    },
    {
      "cell_type": "code",
      "metadata": {
        "colab": {
          "base_uri": "https://localhost:8080/"
        },
        "id": "IwZbSvwbKSYJ",
        "outputId": "f99b563e-02d7-4acc-c724-037c482938b3"
      },
      "source": [
        "#  Obtain the optimal SVC classifier hyperparameters using GridSearchCV\n",
        "\n",
        "# Import the required library\n",
        "from sklearn.svm import SVC\n",
        "\n",
        "# Define the parameters grid for optimisation\n",
        "svc_params = {'gamma': [1, 0.1], 'kernel': ['rbf', 'linear']}\n",
        "\n",
        "# Training\n",
        "svc_grid = GridSearchCV(SVC(random_state = 42), svc_params, scoring = 'accuracy' , n_jobs = -1)\n",
        "svc_grid.fit(X_train, y_train)\n",
        "\n",
        "# Print the best hyperparameters\n",
        "print(svc_grid.best_params_)"
      ],
      "execution_count": null,
      "outputs": [
        {
          "output_type": "stream",
          "name": "stdout",
          "text": [
            "{'gamma': 0.1, 'kernel': 'rbf'}\n"
          ]
        }
      ]
    },
    {
      "cell_type": "code",
      "metadata": {
        "id": "IwcHJNbxBWQM",
        "colab": {
          "base_uri": "https://localhost:8080/"
        },
        "outputId": "e230a688-5bf3-4f2e-c6dd-e6865d148458"
      },
      "source": [
        "# Train an SVC model using the best hyperparameters.\n",
        "\n",
        "svc_clf = SVC(gamma = 0.1,  kernel = 'rbf', random_state = 42)\n",
        "\n",
        "# Fit the SVC model and  perform prediction.\n",
        "svc_clf.fit(X_train, y_train)\n",
        "svc_y_pred = svc_clf.predict(X_test)\n",
        "\n",
        "# Call the 'score()' function to check the accuracy score of the model.\n",
        "print(\"Train set accuracy:\", svc_clf.score(X_train, y_train))\n",
        "print(\"Test set accuracy:\", svc_clf.score(X_test, y_test))"
      ],
      "execution_count": null,
      "outputs": [
        {
          "output_type": "stream",
          "name": "stdout",
          "text": [
            "Train set accuracy: 0.7287396423898822\n",
            "Test set accuracy: 0.6826042726347915\n"
          ]
        }
      ]
    },
    {
      "cell_type": "code",
      "metadata": {
        "id": "M7afzrlvbjZI"
      },
      "source": [
        "#  Print the classification report for SVC classifier\n",
        "print(classification_report(y_test, svc_y_pred))"
      ],
      "execution_count": null,
      "outputs": []
    }
  ]
}